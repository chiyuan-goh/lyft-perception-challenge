{
 "cells": [
  {
   "cell_type": "code",
   "execution_count": 8,
   "metadata": {
    "collapsed": false
   },
   "outputs": [],
   "source": [
    "%matplotlib inline\n",
    "from experiment import *\n",
    "import numpy as np"
   ]
  },
  {
   "cell_type": "code",
   "execution_count": 2,
   "metadata": {
    "collapsed": false
   },
   "outputs": [
    {
     "data": {
      "text/plain": [
       "'/Users/chiyuan/Documents/home/Train/CameraSeg'"
      ]
     },
     "execution_count": 2,
     "metadata": {},
     "output_type": "execute_result"
    }
   ],
   "source": [
    "label_url"
   ]
  },
  {
   "cell_type": "code",
   "execution_count": 3,
   "metadata": {
    "collapsed": false,
    "deletable": true,
    "editable": true
   },
   "outputs": [
    {
     "data": {
      "text/plain": [
       "'/Users/chiyuan/Documents/home/Train/CameraSeg'"
      ]
     },
     "execution_count": 3,
     "metadata": {},
     "output_type": "execute_result"
    }
   ],
   "source": [
    "label_url"
   ]
  },
  {
   "cell_type": "code",
   "execution_count": 24,
   "metadata": {
    "collapsed": false
   },
   "outputs": [
    {
     "name": "stdout",
     "output_type": "stream",
     "text": [
      "final stats: [  0.25325792   1.          14.259816  ]\n"
     ]
    }
   ],
   "source": [
    "classes = np.array([0, 1, 2])\n",
    "pix_counts = np.zeros(3,)\n",
    "denom = np.zeros(3,)\n",
    "import os\n",
    "import cv2\n",
    "for f in os.listdir(label_url):\n",
    "    yimg = cv2.imread(os.path.join(label_url, f))\n",
    "    label_ch = yimg[:,:,2]\n",
    "    veh_pixels = (label_ch == 10).nonzero()\n",
    "    hood_indices = (veh_pixels[0] >= 496).nonzero()[0]\n",
    "    hood_pixels = (veh_pixels[0][hood_indices], \\\n",
    "                   veh_pixels[1][hood_indices])\n",
    "    \n",
    "    label_ch[hood_pixels] = 0\n",
    "    label_ch[label_ch == 6] = 7\n",
    "    label_ch[(label_ch != 10) & (label_ch != 7)] = 0\n",
    "                       \n",
    "                       \n",
    "    vals, counts =  np.unique(label_ch, return_counts=True)\n",
    "    #print(vals, counts)\n",
    "    if 10 not in vals:\n",
    "        counts = np.append(counts, [10])\n",
    "    pix_counts += counts\n",
    "    \n",
    "    b = counts.astype('bool')\n",
    "    denom += b * label_ch.size\n",
    "    \n",
    "freq = pix_counts/denom\n",
    "print(\"final stats:\", np.median(freq)/freq)"
   ]
  },
  {
   "cell_type": "code",
   "execution_count": 9,
   "metadata": {
    "collapsed": false
   },
   "outputs": [
    {
     "data": {
      "text/plain": [
       "<matplotlib.image.AxesImage at 0x1200c25c0>"
      ]
     },
     "execution_count": 9,
     "metadata": {},
     "output_type": "execute_result"
    },
    {
     "data": {
      "image/png": "[encoded data removed]",
      "text/plain": [
       "<matplotlib.figure.Figure at 0x11f5077b8>"
      ]
     },
     "metadata": {},
     "output_type": "display_data"
    }
   ],
   "source": [
    "import matplotlib.pyplot as plt\n",
    "plt.imshow(process_label(cv2.imread(os.path.join(label_url, os.listdir(label_url)[0]))))"
   ]
  },
  {
   "cell_type": "code",
   "execution_count": 12,
   "metadata": {
    "collapsed": false
   },
   "outputs": [
    {
     "data": {
      "text/plain": [
       "False"
      ]
     },
     "execution_count": 12,
     "metadata": {},
     "output_type": "execute_result"
    }
   ],
   "source": [
    "d = process_label(cv2.imread(os.path.join(label_url, os.listdir(label_url)[0])))\n",
    "d[d == 2].any()"
   ]
  },
  {
   "cell_type": "code",
   "execution_count": 23,
   "metadata": {
    "collapsed": false
   },
   "outputs": [
    {
     "data": {
      "text/plain": [
       "0.0"
      ]
     },
     "execution_count": 23,
     "metadata": {},
     "output_type": "execute_result"
    }
   ],
   "source": [
    "a = np.eye(7)\n",
    "np.median(a)"
   ]
  },
  {
   "cell_type": "code",
   "execution_count": null,
   "metadata": {
    "collapsed": true
   },
   "outputs": [],
   "source": []
  }
 ],
 "metadata": {
  "kernelspec": {
   "display_name": "Python 3",
   "language": "python",
   "name": "python3"
  },
  "language_info": {
   "codemirror_mode": {
    "name": "ipython",
    "version": 3
   },
   "file_extension": ".py",
   "mimetype": "text/x-python",
   "name": "python",
   "nbconvert_exporter": "python",
   "pygments_lexer": "ipython3",
   "version": "3.5.2"
  },
  "widgets": {
   "state": {},
   "version": "1.1.2"
  }
 },
 "nbformat": 4,
 "nbformat_minor": 2
}
